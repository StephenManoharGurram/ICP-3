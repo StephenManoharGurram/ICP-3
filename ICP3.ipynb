{
  "nbformat": 4,
  "nbformat_minor": 0,
  "metadata": {
    "colab": {
      "provenance": [],
      "authorship_tag": "ABX9TyNlsvqFu+p/M23hKo/2IfrC",
      "include_colab_link": true
    },
    "kernelspec": {
      "name": "python3",
      "display_name": "Python 3"
    },
    "language_info": {
      "name": "python"
    }
  },
  "cells": [
    {
      "cell_type": "markdown",
      "metadata": {
        "id": "view-in-github",
        "colab_type": "text"
      },
      "source": [
        "<a href=\"https://colab.research.google.com/github/StephenManoharGurram/ICP-3/blob/main/ICP3.ipynb\" target=\"_parent\"><img src=\"https://colab.research.google.com/assets/colab-badge.svg\" alt=\"Open In Colab\"/></a>"
      ]
    },
    {
      "cell_type": "markdown",
      "source": [
        "Using NumPy create random vector of size 15 having only Integers in the range 1-20.\n",
        "1. Reshape the array to 3 by 5\n",
        "2. Print array shape.\n",
        "3. Replace the max in each row by 0\n",
        "\n",
        "Create a 2-dimensional array of size 4 * 3 (composed of 4-byte integer elements), also print the shape. of the array."
      ],
      "metadata": {
        "id": "g_VzLcUg7UPZ"
      }
    },
    {
      "cell_type": "code",
      "execution_count": 3,
      "metadata": {
        "colab": {
          "base_uri": "https://localhost:8080/"
        },
        "id": "zpH0yWVz5TjV",
        "outputId": "92010532-6a39-4b38-92fd-1d3b7101a835"
      },
      "outputs": [
        {
          "output_type": "stream",
          "name": "stdout",
          "text": [
            "[ 6  1  1  1 14  2 17  7 12  1  3 19 16  1 10]\n",
            "Shape of the reshaped array: (3, 5)\n",
            "Array after replacing the max in each row by 0:\n",
            "[[ 6  1  1  1  0]\n",
            " [ 2  0  7 12  1]\n",
            " [ 3  0 16  1 10]]\n",
            "Shape of the 2-dimensional array: (4, 3)\n",
            "[[0 0 0]\n",
            " [0 0 0]\n",
            " [0 0 0]\n",
            " [0 0 0]]\n"
          ]
        }
      ],
      "source": [
        "import numpy as np\n",
        "\n",
        "# Step 1: Create a random vector of size 15 with integers in the range 1-20\n",
        "random_vector = np.random.randint(1, 21, size=15)\n",
        "print(random_vector)\n",
        "# Step 2: Reshape the array to 3 by 5\n",
        "reshaped_array = random_vector.reshape(3, 5)\n",
        "# Step 3: Print array shape\n",
        "print(\"Shape of the reshaped array:\", reshaped_array.shape)\n",
        "# Step 4: Replace the max in each row by 0\n",
        "for row in reshaped_array:\n",
        "    row[np.argmax(row)] = 0\n",
        "\n",
        "print(\"Array after replacing the max in each row by 0:\")\n",
        "print(reshaped_array)\n",
        "\n",
        "# Create a 2-dimensional array of size 4 * 3 with 4-byte integer elements\n",
        "array_4x3 = np.zeros((4, 3), dtype=np.int32)\n",
        "\n",
        "# Print the shape of the 2-dimensional array\n",
        "print(\"Shape of the 2-dimensional array:\", array_4x3.shape)\n",
        "print(array_4x3)\n"
      ]
    },
    {
      "cell_type": "markdown",
      "source": [
        "Write a program to compute the eigenvalues and right eigenvectors of a given square array given below: [[3-2] [10]]"
      ],
      "metadata": {
        "id": "AeNnlnMe8-uC"
      }
    },
    {
      "cell_type": "code",
      "source": [
        "import numpy as np\n",
        "\n",
        "# Define the square array\n",
        "matrix = np.array([[3, -2],\n",
        "                   [0, 10]])\n",
        "\n",
        "# Compute the eigenvalues and right eigenvectors\n",
        "eigenvalues, eigenvectors = np.linalg.eig(matrix)\n",
        "\n",
        "# Print the eigenvalues and right eigenvectors\n",
        "print(\"Eigenvalues:\")\n",
        "print(eigenvalues)\n",
        "\n",
        "print(\"\\nRight Eigenvectors:\")\n",
        "print(eigenvectors)\n"
      ],
      "metadata": {
        "colab": {
          "base_uri": "https://localhost:8080/"
        },
        "id": "n2gdG1zK8__C",
        "outputId": "d3741dc0-4580-48d7-9e0f-557f63a56cb8"
      },
      "execution_count": 4,
      "outputs": [
        {
          "output_type": "stream",
          "name": "stdout",
          "text": [
            "Eigenvalues:\n",
            "[ 3. 10.]\n",
            "\n",
            "Right Eigenvectors:\n",
            "[[ 1.         -0.27472113]\n",
            " [ 0.          0.96152395]]\n"
          ]
        }
      ]
    },
    {
      "cell_type": "markdown",
      "source": [
        "Compute the sum of the diagonal element of a given array.\n",
        "\n",
        "[[012]\n",
        "\n",
        "[345]]\n",
        "\n"
      ],
      "metadata": {
        "id": "jeOKeULB9kt3"
      }
    },
    {
      "cell_type": "code",
      "source": [
        "import numpy as np\n",
        "\n",
        "# Define the array\n",
        "matrix = np.array([[0, 1, 2],\n",
        "                   [3, 4, 5]])\n",
        "\n",
        "# Compute the sum of the diagonal elements\n",
        "diagonal_sum = np.trace(matrix)\n",
        "\n",
        "# Print the sum of the diagonal elements\n",
        "print(\"Sum of the diagonal elements:\", diagonal_sum)\n"
      ],
      "metadata": {
        "colab": {
          "base_uri": "https://localhost:8080/"
        },
        "id": "anScK3o57_O5",
        "outputId": "ea9f9635-1fe1-4588-aaeb-4f1f127406c9"
      },
      "execution_count": 5,
      "outputs": [
        {
          "output_type": "stream",
          "name": "stdout",
          "text": [
            "Sum of the diagonal elements: 4\n"
          ]
        }
      ]
    },
    {
      "cell_type": "markdown",
      "source": [
        "Write a NumPy program to create a new shape to an array without changing its data.\n",
        "\n",
        "Reshape 3x2:\n",
        "\n",
        "[[12]\n",
        "\n",
        "[34]\n",
        "\n",
        "[56]]\n",
        "\n",
        "Reshape 2x3:\n",
        "\n",
        "[[123]\n",
        "\n",
        "[456]]"
      ],
      "metadata": {
        "id": "WsE-jytC-IAo"
      }
    },
    {
      "cell_type": "code",
      "source": [
        "import numpy as np\n",
        "\n",
        "# Define the original 3x2 array\n",
        "original_array = np.array([[1, 2],\n",
        "                           [3, 4],\n",
        "                           [5, 6]])\n",
        "\n",
        "# Reshape the array to 2x3\n",
        "reshaped_array = original_array.reshape(2, 3)\n",
        "\n",
        "# Print the original and reshaped arrays\n",
        "print(\"Original array (3x2):\")\n",
        "print(original_array)\n",
        "\n",
        "print(\"\\nReshaped array (2x3):\")\n",
        "print(reshaped_array)\n"
      ],
      "metadata": {
        "colab": {
          "base_uri": "https://localhost:8080/"
        },
        "id": "ojH5jOqt-I7R",
        "outputId": "ff1b965d-77b1-4383-f163-a8d7278df8e2"
      },
      "execution_count": 6,
      "outputs": [
        {
          "output_type": "stream",
          "name": "stdout",
          "text": [
            "Original array (3x2):\n",
            "[[1 2]\n",
            " [3 4]\n",
            " [5 6]]\n",
            "\n",
            "Reshaped array (2x3):\n",
            "[[1 2 3]\n",
            " [4 5 6]]\n"
          ]
        }
      ]
    }
  ]
}